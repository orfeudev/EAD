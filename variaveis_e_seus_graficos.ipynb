{
 "cells": [
  {
   "cell_type": "markdown",
   "id": "72bed486-61f8-4933-9a04-7cc53e18aea0",
   "metadata": {},
   "source": [
    "### Análise Exploratória de Dados\n",
    "Neste documento tratarei dos tipos de variáveis e seus respectivos gráficos. Posteriormente pretendo tratar das correlações entre variáveis.\n",
    "\n"
   ]
  },
  {
   "cell_type": "markdown",
   "id": "ad2bc587-6d1c-4a77-b202-d1360145f896",
   "metadata": {},
   "source": [
    "#### 1. Tipos de Variáveis:\n",
    "A organização dos dados, quando se trata de estatística, é a parte mais crucial do trabalho, visto que a primeira parte desta empreitada sempre é a organização dos dados que se pretende analisar. Por esse motivo, é necessário atentarmos ao cerne do modelo organizacional da AED: os tipos de variáveis. \n",
    "Ao construirmos ou analisarmos um banco de dados, é importante entender que as informações devem ser guardadas de formas específicas e que estudarmos as técnicas apropriadas para resumir as informações é o passo primordial que deve ser feito na caminhada de se tornar um estatístico ou alguém que trabalha com dados.\n",
    "\n",
    "O salário de uma pessoa, sua altura, número de filhos, grau de instrução escolar e seu estado civil são exemplos de variáveis que podemos utilizar como base de informações sobre um indivíduo. Estas variáveis seguem um modelo organizacional e são divididas em dois grandes tipos, as **Variáveis Categóricas** e as **Variáveis Numéricas**, que, por sua vez, são divididas em dois subgrupos, os quais nos aprofundaremos a seguir:\n"
   ]
  },
  {
   "cell_type": "markdown",
   "id": "b59980dc-4efe-460b-ba44-8bbc8dbd7767",
   "metadata": {},
   "source": [
    "### **1.1 Variáveis Categóricas:**\n",
    "As Variáveis Categóricas, que também podem ser chamadas de Qualitativas, representam atributos ou qualidades dos indivíduos pesquisados, como grau de instrução, estado civil, cor dos olhos, cabelo ou etnia. Esse tipo de variável é subdividido em dois subgrupos: **nominais** e **ordinais**, para facilitar a organização e análise dos dados. Veremos esses subtipos a seguir:\n",
    "\n",
    ">#### **1.1.1 Variáveis Categóricas Nominais:**\n",
    "As variáveis categóricas nominais expressam atributos que não possuem qualquer tipo de ordenação em suas categorias. Alguns exemplos que podemos citar são gênero, cor dos olhos, estado civil, condição de saúde. \n",
    "\n",
    ">| **ID** | **Gênero**     | **Estado civil**  | **Profissão**         |\n",
    "|--------|-----------------|-------------------|-----------------------|\n",
    "| 01     | Masculino       | Casado            | Engenheiro Metalúrgico|\n",
    "| 02     | Feminino        | Solteiro          | Médico(a)             |\n",
    "| 03     | Feminino        | Solteiro          | Professor(a)          |\n",
    "| 04     | Não-Binário     | Casado            | Artista               |\n",
    "\n",
    ">- Não existe uma hierarquia ou ordenação entre as categorias dessas variáveis.\n",
    ">- A variável ID é considerada uma variável **categórica nominal**\n",
    "---\n",
    "\n",
    ">#### **1.1.2 Variáveis Categóricas Ordinais:**\n",
    "As variáveis categóricas ordinais são aquelas que possuem uma ordem natural ou hierarquia entre suas categorias. Os exemplos deste tipo de variável incluem escolaridade, classe social, grau de satisfação e tamanho de roupa.\n",
    "\n",
    ">| **ID** | **Escolaridade**       | **Nível de Satisfação** | **Tempo de Experiência** |\n",
    "|--------|------------------------|-------------------------|---------------------------|\n",
    "| 01     | Graduação              | Satisfeito             | 5-10 anos                |\n",
    "| 02     | Pós-graduação          | Muito satisfeito       | Mais de 10 anos          |\n",
    "| 03     | Ensino Médio           | Neutro                 | 1-5 anos                 |\n",
    "| 04     | Graduação incompleta   | Insatisfeito           | Menos de \n",
    ">- É possível observar hirarquia e/ou ordenação entre as categorias dessas variáveis.\n",
    ">- A variável ID **não** é uma variável **categórica ordinal**"
   ]
  },
  {
   "cell_type": "markdown",
   "id": "67e20356-ee8f-449a-b575-4afa0d5bd68a",
   "metadata": {},
   "source": [
    "### **1.2 Variáveis Numéricas:**\n",
    "As **Variáveis Numéricas**, também chamadas de **Quantitativas**, representam os atributos mensuráveis dos indivíduos, como altura, peso, idade, temperatura, salário, entre outros. Esse tipo de variável é subdividido em dois subgrupos: **discretas** e **contínuas**, para facilitar a organização e análise dos dados. Veremos esses subtipos a seguir:\n",
    "\n",
    ">#### **1.2.1 Variáveis Numéricas Discretas:**\n",
    "As **variáveis numéricas discretas** são aquelas que assumem valores inteiros e resultam de contagens. Não é possível ter valores fracionados ou decimais para esse tipo de variável. Exemplos incluem o número de filhos, o número de carros em uma garagem, ou o número de clientes em uma loja.\n",
    "\n",
    ">| **ID** | **Número de Filhos** | **Número de Carros**  | **Número de Clientes**   |\n",
    "|--------|----------------------|-----------------------|--------------------------|\n",
    "| 01     | 2                    | 1                     | 10                       |\n",
    "| 02     | 3                    | 2                     | 25                       |\n",
    "| 03     | 1                    | 1                     | 15                       |\n",
    "| 04     | 0                    | 0                     | 5                        |\n",
    "\n",
    ">- Não existe a possibilidade de valores fracionados ou decimais entre as categorias dessas variáveis.\n",
    ">- A variável **ID** **não** é uma variável **numérica discreta**.\n",
    "\n",
    "---\n",
    "\n",
    ">#### **1.2.2 Variáveis Numéricas Contínuas:**\n",
    "As **variáveis numéricas contínuas** são aquelas que podem assumir qualquer valor dentro de um intervalo, incluindo valores fracionados ou decimais. Exemplos incluem altura, peso, temperatura, salário e a distância percorrida.\n",
    "\n",
    ">| **ID** | **Altura (cm)**   | **Peso (kg)**  | **Distância (km)** |\n",
    "|--------|-------------------|----------------|--------------------|\n",
    "| 01     | 170.5             | 70.2           | 5.6                |\n",
    "| 02     | 165.3             | 60.5           | 8.2                |\n",
    "| 03     | 180.0             | 85.1           | 10.3               |\n",
    "| 04     | 155.8             | 55.0           | 7.5                |\n",
    "\n",
    ">- É possível ter valores fracionados ou decimais entre as categorias dessas variáveis.\n",
    ">- A variável **ID** **não** é uma variável **numérica contínua**.\n"
   ]
  },
  {
   "cell_type": "markdown",
   "id": "11463ff1-368a-4091-971e-cf860d8a3719",
   "metadata": {},
   "source": [
    "### 2. A Variável ID:\n",
    "A variável **ID** é categórica, mais especificamente, uma **variável categórica nominal**. Embora frequentemente representada por números, ela não tem valor quantitativo nem hierarquia. Sua principal função é **identificar de maneira única** os registros no conjunto de dados, sem ser usada em análises matemáticas ou quantitativas.\n",
    "\n",
    "Mesmo sendo numérica, a variável **ID** é categórica, pois seus valores são apenas rótulos para distinguir registros, sem significado numérico ou ordem.\n"
   ]
  }
 ],
 "metadata": {
  "kernelspec": {
   "display_name": "Python 3 (ipykernel)",
   "language": "python",
   "name": "python3"
  },
  "language_info": {
   "codemirror_mode": {
    "name": "ipython",
    "version": 3
   },
   "file_extension": ".py",
   "mimetype": "text/x-python",
   "name": "python",
   "nbconvert_exporter": "python",
   "pygments_lexer": "ipython3",
   "version": "3.11.7"
  }
 },
 "nbformat": 4,
 "nbformat_minor": 5
}
